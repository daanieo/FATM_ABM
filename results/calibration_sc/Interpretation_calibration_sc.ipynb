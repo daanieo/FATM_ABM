{
 "cells": [
  {
   "cell_type": "code",
   "execution_count": 1,
   "metadata": {},
   "outputs": [],
   "source": [
    "import pandas as pd\n",
    "import matplotlib.pyplot as plt\n",
    "import numpy as np\n",
    "plt.style.use([\"science\",\"grid\"])"
   ]
  },
  {
   "cell_type": "code",
   "execution_count": 2,
   "metadata": {},
   "outputs": [],
   "source": [
    "data1 = pd.read_feather(\"gamma345\")\n",
    "data2 = pd.read_feather(\"gamma7\")\n",
    "data3 = pd.read_feather(\"gamma10\")\n",
    "data4 = pd.read_feather(\"gamma14\")\n",
    "input_vars1 = pd.read_csv(\"input_parameters345.csv\")\n",
    "input_vars2 = pd.read_csv(\"input_parameters7.csv\")\n",
    "input_vars3 = pd.read_csv(\"input_parameters10.csv\")\n",
    "input_vars4 = pd.read_csv(\"input_parameters14.csv\")\n",
    "os = pd.read_csv(\"output_names.csv\")"
   ]
  },
  {
   "cell_type": "code",
   "execution_count": 3,
   "metadata": {},
   "outputs": [],
   "source": [
    "data2.o0 = data2.o0+48\n",
    "data3.o0 = data3.o0+48+16\n",
    "data4.o0 = data4.o0+48+16+11\n",
    "data = pd.concat((data1,data2))\n",
    "data = pd.concat((data,data3))\n",
    "data = pd.concat((data,data4))\n",
    "\n",
    "input_vars = pd.concat((input_vars1,input_vars2))\n",
    "input_vars = pd.concat((input_vars,input_vars3))\n",
    "input_vars = pd.concat((input_vars,input_vars4))\n",
    "input_vars = input_vars.reset_index()"
   ]
  },
  {
   "cell_type": "code",
   "execution_count": 4,
   "metadata": {},
   "outputs": [],
   "source": [
    "def normalise(arr):\n",
    "    arrmax = np.max(arr)\n",
    "    arrmin = np.min(arr)\n",
    "    \n",
    "    arrnorm = (arr - arrmin) / (arrmax - arrmin)\n",
    "    \n",
    "    return arrnorm"
   ]
  },
  {
   "cell_type": "code",
   "execution_count": null,
   "metadata": {},
   "outputs": [],
   "source": [
    "from matplotlib.lines import Line2D\n",
    "\n",
    "# x vector to plot            \n",
    "x = np.linspace(0,4319,4320) \n",
    "colors = ['steelblue','chocolate','yellowgreen']\n",
    "\n",
    "fig,ax = plt.subplots(1,1,figsize=(7.5,5))\n",
    "\n",
    "input_vars_filtered = input_vars\n",
    "\n",
    "cd = {}\n",
    "labels = [\"High visiting frequency\",\"Low visiting frequency\"]\n",
    "gammas = [3,7,14]\n",
    "for g in range(len(gammas)):\n",
    "    cd[gammas[g]]=colors[g]\n",
    "#     labels.append(r\"$\\gamma$ = %s\"%gammas[g])\n",
    "\n",
    "datapointsx = {7:list(),3:list()}\n",
    "datapointsy = {7:list(),3:list()}\n",
    "\n",
    "for i in [6.0,6.4,6.8,7.2,7.6,8.0,8.4,8.8,9.2,9.6,10,10.4,10.8,11.2,11.4,11.8]:    \n",
    "\n",
    "    for j in input_vars_filtered[input_vars_filtered.parallel_served_full==i].index:\n",
    "        try:\n",
    "            datapointsx[input_vars_filtered.gamma[j]].append(i)\n",
    "            datapointsy[input_vars_filtered.gamma[j]].append(data.o1[data.o0==j].iloc[-1])\n",
    "        except:\n",
    "            pass\n",
    "\n",
    "lines = [Line2D([0], [0], color=c, linewidth=10,marker='o' ,linestyle='None') for c in colors]\n",
    "        \n",
    "for i in datapointsx:\n",
    "    plt.plot(datapointsx[i],datapointsy[i],marker='o',markersize=8,linestyle='--',color=cd[i],alpha=0.75)\n",
    "plt.xlim([5.9,10.1])\n",
    "plt.ylim([0,40000])\n",
    "plt.ylabel(\"Cumulative unsatisfied consumption (tonne)\",fontsize=12)\n",
    "# plt.yticks(np.linspace(0,40e3,9),np.linspace(0,40,9))\n",
    "plt.xlabel(\"Average number of people a Food ATM can serve per 10 minutes\",fontsize=12)\n",
    "# plt.title(r\"$\\alpha$ = 1.0; $\\beta$ = 0.0; $\\epsilon$ = 1.0\",fontsize=14)\n",
    "plt.title(r\"No social interaction; Good perception of the system\",fontsize=14)\n",
    "plt.legend(lines[:2], labels[:2],fontsize=12)\n",
    "plt.savefig(\"/home/daan/Desktop/sample_servicecapacity.png\")"
   ]
  },
  {
   "cell_type": "code",
   "execution_count": null,
   "metadata": {},
   "outputs": [],
   "source": []
  }
 ],
 "metadata": {
  "kernelspec": {
   "display_name": "Python 3",
   "language": "python",
   "name": "python3"
  },
  "language_info": {
   "codemirror_mode": {
    "name": "ipython",
    "version": 3
   },
   "file_extension": ".py",
   "mimetype": "text/x-python",
   "name": "python",
   "nbconvert_exporter": "python",
   "pygments_lexer": "ipython3",
   "version": "3.8.2"
  }
 },
 "nbformat": 4,
 "nbformat_minor": 4
}
