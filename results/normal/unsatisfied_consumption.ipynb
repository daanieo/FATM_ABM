{
 "cells": [
  {
   "cell_type": "code",
   "execution_count": 1,
   "metadata": {},
   "outputs": [],
   "source": [
    "import pandas as pd\n",
    "import matplotlib.pyplot as plt\n",
    "import numpy as np\n",
    "data = pd.read_feather(\"simple_simulation\")\n",
    "input_vars = pd.read_csv(\"input_parameters.csv\")"
   ]
  },
  {
   "cell_type": "code",
   "execution_count": 2,
   "metadata": {},
   "outputs": [
    {
     "data": {
      "image/png": "[encoded data removed]",
      "text/plain": [
       "<Figure size 432x288 with 1 Axes>"
      ]
     },
     "metadata": {
      "needs_background": "light"
     },
     "output_type": "display_data"
    }
   ],
   "source": [
    "x = np.linspace(0,4319,4320)\n",
    "d = {}\n",
    "\n",
    "m = np.zeros([5,96])\n",
    "\n",
    "for i in range(5):\n",
    "    for j in range(96):\n",
    "        \n",
    "        index = i*96+j\n",
    "        plotdata = data.o1[data.o0==index]\n",
    "    \n",
    "        m[i,j] = data.o1[data.o0==index].iloc[-1]\n",
    "    \n",
    "        plt.plot( x, plotdata,color=(0,i/5,0))"
   ]
  },
  {
   "cell_type": "code",
   "execution_count": 20,
   "metadata": {},
   "outputs": [
    {
     "data": {
      "text/plain": [
       "alpha      0.5\n",
       "beta       0.2\n",
       "gamma      3.0\n",
       "epsilon    0.5\n",
       "Name: 288, dtype: float64"
      ]
     },
     "execution_count": 20,
     "metadata": {},
     "output_type": "execute_result"
    },
    {
     "data": {
      "image/png": "[encoded data removed]",
      "text/plain": [
       "<Figure size 432x288 with 1 Axes>"
      ]
     },
     "metadata": {
      "needs_background": "light"
     },
     "output_type": "display_data"
    }
   ],
   "source": [
    "x = np.linspace(0,4319,4320)\n",
    "d = {}\n",
    "d[0] = list()\n",
    "d[1] = list()\n",
    "d[2] = list()\n",
    "\n",
    "\n",
    "m = np.zeros([5,96])\n",
    "\n",
    "for i in [3]:\n",
    "    for j in range(96):\n",
    "        \n",
    "        index = i*96+j\n",
    "        plotdata = data.o1[data.o0==index]\n",
    "        \n",
    "        if plotdata.iloc[-1] > 10000:\n",
    "            plt.plot( x, plotdata,color='blue')\n",
    "            d[0].append(index)\n",
    "            \n",
    "        else:\n",
    "            if plotdata.iloc[-1] > 5000:\n",
    "                plt.plot( x, plotdata,color='red')\n",
    "                d[1].append(index)\n",
    "            \n",
    "            else:\n",
    "                plt.plot( x, plotdata,color='green')\n",
    "                d[2].append(index)\n",
    "    \n",
    "        m[i,j] = data.o1[data.o0==index].iloc[-1]\n",
    "    \n",
    "        \n",
    "input_vars.iloc[96*3,6:]"
   ]
  },
  {
   "cell_type": "code",
   "execution_count": 58,
   "metadata": {},
   "outputs": [
    {
     "data": {
      "text/html": [
       "<div>\n",
       "<style scoped>\n",
       "    .dataframe tbody tr th:only-of-type {\n",
       "        vertical-align: middle;\n",
       "    }\n",
       "\n",
       "    .dataframe tbody tr th {\n",
       "        vertical-align: top;\n",
       "    }\n",
       "\n",
       "    .dataframe thead th {\n",
       "        text-align: right;\n",
       "    }\n",
       "</style>\n",
       "<table border=\"1\" class=\"dataframe\">\n",
       "  <thead>\n",
       "    <tr style=\"text-align: right;\">\n",
       "      <th></th>\n",
       "      <th>Unnamed: 0</th>\n",
       "      <th>capacity_policy</th>\n",
       "      <th>minfood_access_policy</th>\n",
       "      <th>maxfood_access_policy</th>\n",
       "      <th>day_access_policy</th>\n",
       "      <th>rerouting_policy</th>\n",
       "      <th>alpha</th>\n",
       "      <th>beta</th>\n",
       "      <th>gamma</th>\n",
       "      <th>epsilon</th>\n",
       "    </tr>\n",
       "  </thead>\n",
       "  <tbody>\n",
       "    <tr>\n",
       "      <th>0</th>\n",
       "      <td>0</td>\n",
       "      <td>0</td>\n",
       "      <td>0</td>\n",
       "      <td>0</td>\n",
       "      <td>0</td>\n",
       "      <td>0</td>\n",
       "      <td>0.5</td>\n",
       "      <td>0.5</td>\n",
       "      <td>7.0</td>\n",
       "      <td>0.5</td>\n",
       "    </tr>\n",
       "    <tr>\n",
       "      <th>1</th>\n",
       "      <td>1</td>\n",
       "      <td>0</td>\n",
       "      <td>0</td>\n",
       "      <td>0</td>\n",
       "      <td>0</td>\n",
       "      <td>1</td>\n",
       "      <td>0.5</td>\n",
       "      <td>0.5</td>\n",
       "      <td>7.0</td>\n",
       "      <td>0.5</td>\n",
       "    </tr>\n",
       "    <tr>\n",
       "      <th>2</th>\n",
       "      <td>2</td>\n",
       "      <td>0</td>\n",
       "      <td>0</td>\n",
       "      <td>0</td>\n",
       "      <td>0</td>\n",
       "      <td>2</td>\n",
       "      <td>0.5</td>\n",
       "      <td>0.5</td>\n",
       "      <td>7.0</td>\n",
       "      <td>0.5</td>\n",
       "    </tr>\n",
       "    <tr>\n",
       "      <th>3</th>\n",
       "      <td>3</td>\n",
       "      <td>0</td>\n",
       "      <td>0</td>\n",
       "      <td>0</td>\n",
       "      <td>0</td>\n",
       "      <td>3</td>\n",
       "      <td>0.5</td>\n",
       "      <td>0.5</td>\n",
       "      <td>7.0</td>\n",
       "      <td>0.5</td>\n",
       "    </tr>\n",
       "    <tr>\n",
       "      <th>4</th>\n",
       "      <td>4</td>\n",
       "      <td>0</td>\n",
       "      <td>0</td>\n",
       "      <td>0</td>\n",
       "      <td>1</td>\n",
       "      <td>0</td>\n",
       "      <td>0.5</td>\n",
       "      <td>0.5</td>\n",
       "      <td>7.0</td>\n",
       "      <td>0.5</td>\n",
       "    </tr>\n",
       "    <tr>\n",
       "      <th>...</th>\n",
       "      <td>...</td>\n",
       "      <td>...</td>\n",
       "      <td>...</td>\n",
       "      <td>...</td>\n",
       "      <td>...</td>\n",
       "      <td>...</td>\n",
       "      <td>...</td>\n",
       "      <td>...</td>\n",
       "      <td>...</td>\n",
       "      <td>...</td>\n",
       "    </tr>\n",
       "    <tr>\n",
       "      <th>475</th>\n",
       "      <td>475</td>\n",
       "      <td>1</td>\n",
       "      <td>1</td>\n",
       "      <td>2</td>\n",
       "      <td>0</td>\n",
       "      <td>3</td>\n",
       "      <td>0.0</td>\n",
       "      <td>0.0</td>\n",
       "      <td>21.0</td>\n",
       "      <td>0.1</td>\n",
       "    </tr>\n",
       "    <tr>\n",
       "      <th>476</th>\n",
       "      <td>476</td>\n",
       "      <td>1</td>\n",
       "      <td>1</td>\n",
       "      <td>2</td>\n",
       "      <td>1</td>\n",
       "      <td>0</td>\n",
       "      <td>0.0</td>\n",
       "      <td>0.0</td>\n",
       "      <td>21.0</td>\n",
       "      <td>0.1</td>\n",
       "    </tr>\n",
       "    <tr>\n",
       "      <th>477</th>\n",
       "      <td>477</td>\n",
       "      <td>1</td>\n",
       "      <td>1</td>\n",
       "      <td>2</td>\n",
       "      <td>1</td>\n",
       "      <td>1</td>\n",
       "      <td>0.0</td>\n",
       "      <td>0.0</td>\n",
       "      <td>21.0</td>\n",
       "      <td>0.1</td>\n",
       "    </tr>\n",
       "    <tr>\n",
       "      <th>478</th>\n",
       "      <td>478</td>\n",
       "      <td>1</td>\n",
       "      <td>1</td>\n",
       "      <td>2</td>\n",
       "      <td>1</td>\n",
       "      <td>2</td>\n",
       "      <td>0.0</td>\n",
       "      <td>0.0</td>\n",
       "      <td>21.0</td>\n",
       "      <td>0.1</td>\n",
       "    </tr>\n",
       "    <tr>\n",
       "      <th>479</th>\n",
       "      <td>479</td>\n",
       "      <td>1</td>\n",
       "      <td>1</td>\n",
       "      <td>2</td>\n",
       "      <td>1</td>\n",
       "      <td>3</td>\n",
       "      <td>0.0</td>\n",
       "      <td>0.0</td>\n",
       "      <td>21.0</td>\n",
       "      <td>0.1</td>\n",
       "    </tr>\n",
       "  </tbody>\n",
       "</table>\n",
       "<p>480 rows × 10 columns</p>\n",
       "</div>"
      ],
      "text/plain": [
       "     Unnamed: 0  capacity_policy  minfood_access_policy  \\\n",
       "0             0                0                      0   \n",
       "1             1                0                      0   \n",
       "2             2                0                      0   \n",
       "3             3                0                      0   \n",
       "4             4                0                      0   \n",
       "..          ...              ...                    ...   \n",
       "475         475                1                      1   \n",
       "476         476                1                      1   \n",
       "477         477                1                      1   \n",
       "478         478                1                      1   \n",
       "479         479                1                      1   \n",
       "\n",
       "     maxfood_access_policy  day_access_policy  rerouting_policy  alpha  beta  \\\n",
       "0                        0                  0                 0    0.5   0.5   \n",
       "1                        0                  0                 1    0.5   0.5   \n",
       "2                        0                  0                 2    0.5   0.5   \n",
       "3                        0                  0                 3    0.5   0.5   \n",
       "4                        0                  1                 0    0.5   0.5   \n",
       "..                     ...                ...               ...    ...   ...   \n",
       "475                      2                  0                 3    0.0   0.0   \n",
       "476                      2                  1                 0    0.0   0.0   \n",
       "477                      2                  1                 1    0.0   0.0   \n",
       "478                      2                  1                 2    0.0   0.0   \n",
       "479                      2                  1                 3    0.0   0.0   \n",
       "\n",
       "     gamma  epsilon  \n",
       "0      7.0      0.5  \n",
       "1      7.0      0.5  \n",
       "2      7.0      0.5  \n",
       "3      7.0      0.5  \n",
       "4      7.0      0.5  \n",
       "..     ...      ...  \n",
       "475   21.0      0.1  \n",
       "476   21.0      0.1  \n",
       "477   21.0      0.1  \n",
       "478   21.0      0.1  \n",
       "479   21.0      0.1  \n",
       "\n",
       "[480 rows x 10 columns]"
      ]
     },
     "execution_count": 58,
     "metadata": {},
     "output_type": "execute_result"
    }
   ],
   "source": [
    "input_vars"
   ]
  },
  {
   "cell_type": "code",
   "execution_count": 60,
   "metadata": {},
   "outputs": [
    {
     "data": {
      "image/png": "[encoded data removed]",
      "text/plain": [
       "<Figure size 432x288 with 1 Axes>"
      ]
     },
     "metadata": {
      "needs_background": "light"
     },
     "output_type": "display_data"
    }
   ],
   "source": [
    "for i in d:    \n",
    "    for j in d[i]:\n",
    "        if i == 0:\n",
    "            for k in range(5): \n",
    "                plt.plot(k+1,input_vars.iloc[j,k+1],'bo')\n",
    "        if i == 1:\n",
    "            for k in range(5): \n",
    "                plt.plot(k+1.1,input_vars.iloc[j,k+1],'ro')\n",
    "\n",
    "        if i == 2:\n",
    "            for k in range(5): \n",
    "                plt.plot(k+1.2,input_vars.iloc[j,k+1],'go')"
   ]
  },
  {
   "cell_type": "code",
   "execution_count": 3,
   "metadata": {},
   "outputs": [],
   "source": [
    "data_short = list()\n",
    "for i in range(len(input_vars)):\n",
    "    one_set = data[data.o0==i]\n",
    "    data_short.append(one_set.iloc[-1,:])\n",
    "data_short = pd.DataFrame(data_short).reset_index()\n",
    "\n",
    "total_data = pd.concat((input_vars,data_short),axis=1)"
   ]
  },
  {
   "cell_type": "code",
   "execution_count": null,
   "metadata": {},
   "outputs": [],
   "source": []
  },
  {
   "cell_type": "code",
   "execution_count": 15,
   "metadata": {},
   "outputs": [],
   "source": [
    "dims = np.concatenate((np.array(total_data.columns[1:6]), [\"o1\"]))"
   ]
  },
  {
   "cell_type": "code",
   "execution_count": 102,
   "metadata": {},
   "outputs": [
    {
     "data": {
      "image/png": "[encoded data removed]",
      "text/plain": [
       "<Figure size 432x288 with 1 Axes>"
      ]
     },
     "metadata": {
      "needs_background": "light"
     },
     "output_type": "display_data"
    }
   ],
   "source": [
    "x = np.linspace(0,4319,4320)\n",
    "d = {}\n",
    "\n",
    "m = np.zeros([5,96])\n",
    "\n",
    "selected_scenario = 4\n",
    "\n",
    "selected_input_vars = input_vars[selected_scenario*96:(selected_scenario+1)*96]\n",
    "filtered_input_vars = selected_input_vars[(selected_input_vars.rerouting_policy == 2.0) | (selected_input_vars.rerouting_policy == 3.0)]\n",
    "#filtered_data = data[data.o0 == selected_scenario]\n",
    "\n",
    "for i in selected_input_vars.index:\n",
    "\n",
    "    index = i\n",
    "    plotdata = data.o1[data.o0==index]\n",
    "\n",
    "#     m[i,j] = data.o1[data.o0==index].iloc[-1]\n",
    "\n",
    "    plt.plot( x, plotdata,color=(0,selected_scenario/5,0))\n",
    "    \n",
    "\n",
    "    if (index in filtered_input_vars.index):\n",
    "        plt.plot( x, plotdata,color='red' )"
   ]
  },
  {
   "cell_type": "code",
   "execution_count": 93,
   "metadata": {},
   "outputs": [
    {
     "data": {
      "text/plain": [
       "True"
      ]
     },
     "execution_count": 93,
     "metadata": {},
     "output_type": "execute_result"
    }
   ],
   "source": [
    "2 in filtered_input_vars.index"
   ]
  },
  {
   "cell_type": "code",
   "execution_count": 46,
   "metadata": {},
   "outputs": [
    {
     "data": {
      "text/plain": [
       "alpha       0.0\n",
       "beta        0.0\n",
       "gamma      21.0\n",
       "epsilon     0.1\n",
       "Name: 384, dtype: float64"
      ]
     },
     "execution_count": 46,
     "metadata": {},
     "output_type": "execute_result"
    },
    {
     "data": {
      "image/png": "[encoded data removed]",
      "text/plain": [
       "<Figure size 432x288 with 1 Axes>"
      ]
     },
     "metadata": {
      "needs_background": "light"
     },
     "output_type": "display_data"
    }
   ],
   "source": [
    "x = np.linspace(0,4319,4320)\n",
    "d = {}\n",
    "\n",
    "m = np.zeros([5,96])\n",
    "\n",
    "for i in [4]:\n",
    "    for j in range(96):\n",
    "        \n",
    "        index = i*96+j\n",
    "        plotdata = data.o1[data.o0==index]\n",
    "    \n",
    "        m[i,j] = data.o1[data.o0==index].iloc[-1]\n",
    "    \n",
    "        plt.plot( x, plotdata,color=(0,i/5,0))\n",
    "        \n",
    "input_vars.iloc[96*4,6:]"
   ]
  },
  {
   "cell_type": "code",
   "execution_count": null,
   "metadata": {},
   "outputs": [],
   "source": []
  }
 ],
 "metadata": {
  "kernelspec": {
   "display_name": "Python 3",
   "language": "python",
   "name": "python3"
  },
  "language_info": {
   "codemirror_mode": {
    "name": "ipython",
    "version": 3
   },
   "file_extension": ".py",
   "mimetype": "text/x-python",
   "name": "python",
   "nbconvert_exporter": "python",
   "pygments_lexer": "ipython3",
   "version": "3.8.2"
  }
 },
 "nbformat": 4,
 "nbformat_minor": 4
}
